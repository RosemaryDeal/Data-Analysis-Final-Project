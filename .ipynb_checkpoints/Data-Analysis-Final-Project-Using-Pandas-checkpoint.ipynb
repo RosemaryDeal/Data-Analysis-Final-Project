{
 "cells": [
  {
   "cell_type": "markdown",
   "id": "288eeee9-24c4-49cb-a135-2c2d261c3fff",
   "metadata": {},
   "source": [
    "### Problem Statement\n",
    "     A bank aims to leverage its customer data to enhance decision-making processes by gaining insights into customer demographics, financial behaviors, and engagement trends. By understanding the characteristics and needs of different customer segments, the bank seeks to identify opportunities for improving customer retention, optimizing service offerings, and increasing customer satisfaction.\n",
    "\n",
    "\n",
    "### Approach\n",
    "    \n",
    "     To achieve this, we are going to approach the analysis using the following steps\r\n",
    "   - Properly Master The Business And Data\n",
    "   - Clean And Explore Data For Analysis\n",
    "   - Using Visualisations To Answer Questions Enabling Us Achieve Our Objective\n",
    "   - Draw A Conclusion\n",
    "   - Prepare A Summary\n",
    "\n",
    "\n",
    "### Objective\n",
    "\n",
    "    - Demographic Analysis\n",
    "\n",
    "    - Customer Engagement Patterns\n",
    "\n",
    "    - Financial Performance\n",
    "\n",
    "    - Exited Customers Analysis\n",
    "\n",
    "    - Customer Segmentations\r\n",
    "\n",
    "      \n",
    "      \n"
   ]
  },
  {
   "cell_type": "markdown",
   "id": "fb463af1-6550-4da8-94c8-9bbd1b0c9eb0",
   "metadata": {},
   "source": [
    "### Data Mastery"
   ]
  },
  {
   "cell_type": "code",
   "execution_count": 7,
   "id": "ea4c024b-88df-4753-b8b8-422674225f26",
   "metadata": {},
   "outputs": [],
   "source": [
    "import numpy as np\n",
    "import pandas as pd\n",
    "import matplotlib.pyplot as plt\n",
    "import seaborn as sb\n",
    "import warnings\n",
    "\n",
    "%matplotlib inline\n",
    "warnings.filterwarnings(\"ignore\")"
   ]
  },
  {
   "cell_type": "code",
   "execution_count": 8,
   "id": "ce6ea4e5-3fbd-44ee-8d14-f01aeac7d692",
   "metadata": {},
   "outputs": [],
   "source": [
    "# Read in our dataset\n",
    "customer_df = pd.read_csv('BankData/Customer_Info - Customer_Info.csv')\n",
    "account_df = pd.read_csv('BankData/Account_Info - Account_Info.csv')"
   ]
  },
  {
   "cell_type": "markdown",
   "id": "8462ec3c-4efe-41b3-b9e3-ef7d77680e03",
   "metadata": {},
   "source": [
    "### Data Exploration"
   ]
  },
  {
   "cell_type": "code",
   "execution_count": 9,
   "id": "4769d0ca-c40b-4563-b0b5-8b91465cd14c",
   "metadata": {},
   "outputs": [
    {
     "data": {
      "text/html": [
       "<div>\n",
       "<style scoped>\n",
       "    .dataframe tbody tr th:only-of-type {\n",
       "        vertical-align: middle;\n",
       "    }\n",
       "\n",
       "    .dataframe tbody tr th {\n",
       "        vertical-align: top;\n",
       "    }\n",
       "\n",
       "    .dataframe thead th {\n",
       "        text-align: right;\n",
       "    }\n",
       "</style>\n",
       "<table border=\"1\" class=\"dataframe\">\n",
       "  <thead>\n",
       "    <tr style=\"text-align: right;\">\n",
       "      <th></th>\n",
       "      <th>CustomerId</th>\n",
       "      <th>Surname</th>\n",
       "      <th>CreditScore</th>\n",
       "      <th>Geography</th>\n",
       "      <th>Gender</th>\n",
       "      <th>Age</th>\n",
       "      <th>Tenure</th>\n",
       "      <th>EstimatedSalary</th>\n",
       "    </tr>\n",
       "  </thead>\n",
       "  <tbody>\n",
       "    <tr>\n",
       "      <th>0</th>\n",
       "      <td>15634602</td>\n",
       "      <td>Hargrave</td>\n",
       "      <td>619</td>\n",
       "      <td>FRA</td>\n",
       "      <td>Female</td>\n",
       "      <td>42.0</td>\n",
       "      <td>2</td>\n",
       "      <td>€101348.88</td>\n",
       "    </tr>\n",
       "    <tr>\n",
       "      <th>1</th>\n",
       "      <td>15647311</td>\n",
       "      <td>Hill</td>\n",
       "      <td>608</td>\n",
       "      <td>Spain</td>\n",
       "      <td>Female</td>\n",
       "      <td>41.0</td>\n",
       "      <td>1</td>\n",
       "      <td>€112542.58</td>\n",
       "    </tr>\n",
       "    <tr>\n",
       "      <th>2</th>\n",
       "      <td>15619304</td>\n",
       "      <td>Onio</td>\n",
       "      <td>502</td>\n",
       "      <td>French</td>\n",
       "      <td>Female</td>\n",
       "      <td>42.0</td>\n",
       "      <td>8</td>\n",
       "      <td>€113931.57</td>\n",
       "    </tr>\n",
       "    <tr>\n",
       "      <th>3</th>\n",
       "      <td>15701354</td>\n",
       "      <td>Boni</td>\n",
       "      <td>699</td>\n",
       "      <td>FRA</td>\n",
       "      <td>Female</td>\n",
       "      <td>39.0</td>\n",
       "      <td>1</td>\n",
       "      <td>€93826.63</td>\n",
       "    </tr>\n",
       "    <tr>\n",
       "      <th>4</th>\n",
       "      <td>15737888</td>\n",
       "      <td>Mitchell</td>\n",
       "      <td>850</td>\n",
       "      <td>Spain</td>\n",
       "      <td>Female</td>\n",
       "      <td>43.0</td>\n",
       "      <td>2</td>\n",
       "      <td>€79084.1</td>\n",
       "    </tr>\n",
       "  </tbody>\n",
       "</table>\n",
       "</div>"
      ],
      "text/plain": [
       "   CustomerId   Surname  CreditScore Geography  Gender   Age  Tenure  \\\n",
       "0    15634602  Hargrave          619       FRA  Female  42.0       2   \n",
       "1    15647311      Hill          608     Spain  Female  41.0       1   \n",
       "2    15619304      Onio          502    French  Female  42.0       8   \n",
       "3    15701354      Boni          699       FRA  Female  39.0       1   \n",
       "4    15737888  Mitchell          850     Spain  Female  43.0       2   \n",
       "\n",
       "  EstimatedSalary  \n",
       "0      €101348.88  \n",
       "1      €112542.58  \n",
       "2      €113931.57  \n",
       "3       €93826.63  \n",
       "4        €79084.1  "
      ]
     },
     "execution_count": 9,
     "metadata": {},
     "output_type": "execute_result"
    }
   ],
   "source": [
    "customer_df.head()"
   ]
  },
  {
   "cell_type": "code",
   "execution_count": 10,
   "id": "879de039-bac5-4357-a44f-ab9cd1d6d2d8",
   "metadata": {},
   "outputs": [
    {
     "data": {
      "text/html": [
       "<div>\n",
       "<style scoped>\n",
       "    .dataframe tbody tr th:only-of-type {\n",
       "        vertical-align: middle;\n",
       "    }\n",
       "\n",
       "    .dataframe tbody tr th {\n",
       "        vertical-align: top;\n",
       "    }\n",
       "\n",
       "    .dataframe thead th {\n",
       "        text-align: right;\n",
       "    }\n",
       "</style>\n",
       "<table border=\"1\" class=\"dataframe\">\n",
       "  <thead>\n",
       "    <tr style=\"text-align: right;\">\n",
       "      <th></th>\n",
       "      <th>CustomerId</th>\n",
       "      <th>Surname</th>\n",
       "      <th>CreditScore</th>\n",
       "      <th>Geography</th>\n",
       "      <th>Gender</th>\n",
       "      <th>Age</th>\n",
       "      <th>Tenure</th>\n",
       "      <th>EstimatedSalary</th>\n",
       "    </tr>\n",
       "  </thead>\n",
       "  <tbody>\n",
       "    <tr>\n",
       "      <th>9996</th>\n",
       "      <td>15569892</td>\n",
       "      <td>Johnstone</td>\n",
       "      <td>516</td>\n",
       "      <td>French</td>\n",
       "      <td>Male</td>\n",
       "      <td>35.0</td>\n",
       "      <td>10</td>\n",
       "      <td>€101699.77</td>\n",
       "    </tr>\n",
       "    <tr>\n",
       "      <th>9997</th>\n",
       "      <td>15584532</td>\n",
       "      <td>Liu</td>\n",
       "      <td>709</td>\n",
       "      <td>FRA</td>\n",
       "      <td>Female</td>\n",
       "      <td>36.0</td>\n",
       "      <td>7</td>\n",
       "      <td>€42085.58</td>\n",
       "    </tr>\n",
       "    <tr>\n",
       "      <th>9998</th>\n",
       "      <td>15682355</td>\n",
       "      <td>Sabbatini</td>\n",
       "      <td>772</td>\n",
       "      <td>Germany</td>\n",
       "      <td>Male</td>\n",
       "      <td>42.0</td>\n",
       "      <td>3</td>\n",
       "      <td>€92888.52</td>\n",
       "    </tr>\n",
       "    <tr>\n",
       "      <th>9999</th>\n",
       "      <td>15628319</td>\n",
       "      <td>Walker</td>\n",
       "      <td>792</td>\n",
       "      <td>French</td>\n",
       "      <td>Female</td>\n",
       "      <td>28.0</td>\n",
       "      <td>4</td>\n",
       "      <td>€38190.78</td>\n",
       "    </tr>\n",
       "    <tr>\n",
       "      <th>10000</th>\n",
       "      <td>15628319</td>\n",
       "      <td>Walker</td>\n",
       "      <td>792</td>\n",
       "      <td>French</td>\n",
       "      <td>Female</td>\n",
       "      <td>28.0</td>\n",
       "      <td>4</td>\n",
       "      <td>€38190.78</td>\n",
       "    </tr>\n",
       "  </tbody>\n",
       "</table>\n",
       "</div>"
      ],
      "text/plain": [
       "       CustomerId    Surname  CreditScore Geography  Gender   Age  Tenure  \\\n",
       "9996     15569892  Johnstone          516    French    Male  35.0      10   \n",
       "9997     15584532        Liu          709       FRA  Female  36.0       7   \n",
       "9998     15682355  Sabbatini          772   Germany    Male  42.0       3   \n",
       "9999     15628319     Walker          792    French  Female  28.0       4   \n",
       "10000    15628319     Walker          792    French  Female  28.0       4   \n",
       "\n",
       "      EstimatedSalary  \n",
       "9996       €101699.77  \n",
       "9997        €42085.58  \n",
       "9998        €92888.52  \n",
       "9999        €38190.78  \n",
       "10000       €38190.78  "
      ]
     },
     "execution_count": 10,
     "metadata": {},
     "output_type": "execute_result"
    }
   ],
   "source": [
    "customer_df.tail()"
   ]
  },
  {
   "cell_type": "code",
   "execution_count": 11,
   "id": "fd74edce-f260-4ce9-9286-257f53ee5963",
   "metadata": {},
   "outputs": [
    {
     "data": {
      "text/html": [
       "<div>\n",
       "<style scoped>\n",
       "    .dataframe tbody tr th:only-of-type {\n",
       "        vertical-align: middle;\n",
       "    }\n",
       "\n",
       "    .dataframe tbody tr th {\n",
       "        vertical-align: top;\n",
       "    }\n",
       "\n",
       "    .dataframe thead th {\n",
       "        text-align: right;\n",
       "    }\n",
       "</style>\n",
       "<table border=\"1\" class=\"dataframe\">\n",
       "  <thead>\n",
       "    <tr style=\"text-align: right;\">\n",
       "      <th></th>\n",
       "      <th>CustomerId</th>\n",
       "      <th>Balance</th>\n",
       "      <th>NumOfProducts</th>\n",
       "      <th>HasCrCard</th>\n",
       "      <th>Tenure</th>\n",
       "      <th>IsActiveMember</th>\n",
       "      <th>Exited</th>\n",
       "    </tr>\n",
       "  </thead>\n",
       "  <tbody>\n",
       "    <tr>\n",
       "      <th>0</th>\n",
       "      <td>15634602</td>\n",
       "      <td>€0.0</td>\n",
       "      <td>1</td>\n",
       "      <td>Yes</td>\n",
       "      <td>2</td>\n",
       "      <td>Yes</td>\n",
       "      <td>1</td>\n",
       "    </tr>\n",
       "    <tr>\n",
       "      <th>1</th>\n",
       "      <td>15634602</td>\n",
       "      <td>€0.0</td>\n",
       "      <td>1</td>\n",
       "      <td>Yes</td>\n",
       "      <td>2</td>\n",
       "      <td>Yes</td>\n",
       "      <td>1</td>\n",
       "    </tr>\n",
       "    <tr>\n",
       "      <th>2</th>\n",
       "      <td>15647311</td>\n",
       "      <td>€83807.86</td>\n",
       "      <td>1</td>\n",
       "      <td>Yes</td>\n",
       "      <td>1</td>\n",
       "      <td>Yes</td>\n",
       "      <td>0</td>\n",
       "    </tr>\n",
       "    <tr>\n",
       "      <th>3</th>\n",
       "      <td>15619304</td>\n",
       "      <td>€159660.8</td>\n",
       "      <td>3</td>\n",
       "      <td>No</td>\n",
       "      <td>8</td>\n",
       "      <td>No</td>\n",
       "      <td>1</td>\n",
       "    </tr>\n",
       "    <tr>\n",
       "      <th>4</th>\n",
       "      <td>15701354</td>\n",
       "      <td>€0.0</td>\n",
       "      <td>2</td>\n",
       "      <td>No</td>\n",
       "      <td>1</td>\n",
       "      <td>No</td>\n",
       "      <td>0</td>\n",
       "    </tr>\n",
       "  </tbody>\n",
       "</table>\n",
       "</div>"
      ],
      "text/plain": [
       "   CustomerId    Balance  NumOfProducts HasCrCard  Tenure IsActiveMember  \\\n",
       "0    15634602       €0.0              1       Yes       2            Yes   \n",
       "1    15634602       €0.0              1       Yes       2            Yes   \n",
       "2    15647311  €83807.86              1       Yes       1            Yes   \n",
       "3    15619304  €159660.8              3        No       8             No   \n",
       "4    15701354       €0.0              2        No       1             No   \n",
       "\n",
       "   Exited  \n",
       "0       1  \n",
       "1       1  \n",
       "2       0  \n",
       "3       1  \n",
       "4       0  "
      ]
     },
     "execution_count": 11,
     "metadata": {},
     "output_type": "execute_result"
    }
   ],
   "source": [
    "account_df.head()"
   ]
  },
  {
   "cell_type": "code",
   "execution_count": 12,
   "id": "362bdbff-5091-4dd6-868d-b736b4ed10d2",
   "metadata": {},
   "outputs": [
    {
     "data": {
      "text/html": [
       "<div>\n",
       "<style scoped>\n",
       "    .dataframe tbody tr th:only-of-type {\n",
       "        vertical-align: middle;\n",
       "    }\n",
       "\n",
       "    .dataframe tbody tr th {\n",
       "        vertical-align: top;\n",
       "    }\n",
       "\n",
       "    .dataframe thead th {\n",
       "        text-align: right;\n",
       "    }\n",
       "</style>\n",
       "<table border=\"1\" class=\"dataframe\">\n",
       "  <thead>\n",
       "    <tr style=\"text-align: right;\">\n",
       "      <th></th>\n",
       "      <th>CustomerId</th>\n",
       "      <th>Balance</th>\n",
       "      <th>NumOfProducts</th>\n",
       "      <th>HasCrCard</th>\n",
       "      <th>Tenure</th>\n",
       "      <th>IsActiveMember</th>\n",
       "      <th>Exited</th>\n",
       "    </tr>\n",
       "  </thead>\n",
       "  <tbody>\n",
       "    <tr>\n",
       "      <th>9997</th>\n",
       "      <td>15569892</td>\n",
       "      <td>€57369.61</td>\n",
       "      <td>1</td>\n",
       "      <td>Yes</td>\n",
       "      <td>10</td>\n",
       "      <td>Yes</td>\n",
       "      <td>0</td>\n",
       "    </tr>\n",
       "    <tr>\n",
       "      <th>9998</th>\n",
       "      <td>15584532</td>\n",
       "      <td>€0.0</td>\n",
       "      <td>1</td>\n",
       "      <td>Yes</td>\n",
       "      <td>7</td>\n",
       "      <td>Yes</td>\n",
       "      <td>1</td>\n",
       "    </tr>\n",
       "    <tr>\n",
       "      <th>9999</th>\n",
       "      <td>15682355</td>\n",
       "      <td>€75075.31</td>\n",
       "      <td>2</td>\n",
       "      <td>No</td>\n",
       "      <td>3</td>\n",
       "      <td>No</td>\n",
       "      <td>1</td>\n",
       "    </tr>\n",
       "    <tr>\n",
       "      <th>10000</th>\n",
       "      <td>15628319</td>\n",
       "      <td>€130142.79</td>\n",
       "      <td>1</td>\n",
       "      <td>No</td>\n",
       "      <td>4</td>\n",
       "      <td>No</td>\n",
       "      <td>0</td>\n",
       "    </tr>\n",
       "    <tr>\n",
       "      <th>10001</th>\n",
       "      <td>15628319</td>\n",
       "      <td>€130142.79</td>\n",
       "      <td>1</td>\n",
       "      <td>No</td>\n",
       "      <td>4</td>\n",
       "      <td>No</td>\n",
       "      <td>0</td>\n",
       "    </tr>\n",
       "  </tbody>\n",
       "</table>\n",
       "</div>"
      ],
      "text/plain": [
       "       CustomerId     Balance  NumOfProducts HasCrCard  Tenure IsActiveMember  \\\n",
       "9997     15569892   €57369.61              1       Yes      10            Yes   \n",
       "9998     15584532        €0.0              1       Yes       7            Yes   \n",
       "9999     15682355   €75075.31              2        No       3             No   \n",
       "10000    15628319  €130142.79              1        No       4             No   \n",
       "10001    15628319  €130142.79              1        No       4             No   \n",
       "\n",
       "       Exited  \n",
       "9997        0  \n",
       "9998        1  \n",
       "9999        1  \n",
       "10000       0  \n",
       "10001       0  "
      ]
     },
     "execution_count": 12,
     "metadata": {},
     "output_type": "execute_result"
    }
   ],
   "source": [
    "account_df.tail()"
   ]
  },
  {
   "attachments": {},
   "cell_type": "markdown",
   "id": "4d07b40c-ca51-4773-a8cd-c7475d554d40",
   "metadata": {},
   "source": [
    "### Data Dictionary\n",
    "   This ia a dictionary that interpretes each column\n",
    "| Field                | Description                                                                                     |\r\n",
    "|----------------------|-------------------------------------------------------------------------------------------------|\r\n",
    "| **CustomerId**       | A unique identifier for each customer                                                           |\r\n",
    "| **Surname**          | The customer's last name                                                                        |\r\n",
    "| **CreditScore**      | A numerical value representing the customer's credit score                                      |\r\n",
    "| **Geography**        | The country where the customer resides (France, Spain, or Germany)                              |\r\n",
    "| **Gender**           | The customer's gender (Male or Female)                                                          |\r\n",
    "| **Age**              | The customer's age                                                                              |\r\n",
    "| **Tenure**           | The number of years the customer has been with the bank                                         |\r\n",
    "| **Balance**          | The customer's account balance                                                                  |\r\n",
    "| **Number Of Products** | The number of bank products the customer uses (e.g., savings account, credit card)            |\r\n",
    "| **Has Credit Card**  | Whether the customer has a credit card (1 = yes, 0 = no)                                        |\r\n",
    "| **IsActiveMember**   | Whether the customer is an active member (1 = yes, 0 = no)                                      |\r\n",
    "| **EstimatedSalary**  | The estimated salary of the customer                                                            |\r\n",
    "| **Exited**           | Whether the customer has churned (1 = yes, 0 = no)                                              |\r\n",
    "\n",
    "yes, 0 = no)\r\n"
   ]
  },
  {
   "cell_type": "code",
   "execution_count": 13,
   "id": "2732e681-3942-4a27-8c9e-f68c64452f89",
   "metadata": {},
   "outputs": [],
   "source": [
    "# concatenating the data to make it a whole dataset using merge function\n",
    "data_df = pd.merge(customer_df,account_df, on='CustomerId', how='outer')"
   ]
  },
  {
   "cell_type": "markdown",
   "id": "a5417abb-c11f-4a30-bd63-ddd7025b07e7",
   "metadata": {},
   "source": [
    "data_df.head()"
   ]
  },
  {
   "cell_type": "code",
   "execution_count": 14,
   "id": "7b337369-e7dd-48b1-97d4-b70fd65bb88f",
   "metadata": {},
   "outputs": [
    {
     "data": {
      "text/html": [
       "<div>\n",
       "<style scoped>\n",
       "    .dataframe tbody tr th:only-of-type {\n",
       "        vertical-align: middle;\n",
       "    }\n",
       "\n",
       "    .dataframe tbody tr th {\n",
       "        vertical-align: top;\n",
       "    }\n",
       "\n",
       "    .dataframe thead th {\n",
       "        text-align: right;\n",
       "    }\n",
       "</style>\n",
       "<table border=\"1\" class=\"dataframe\">\n",
       "  <thead>\n",
       "    <tr style=\"text-align: right;\">\n",
       "      <th></th>\n",
       "      <th>CustomerId</th>\n",
       "      <th>Surname</th>\n",
       "      <th>CreditScore</th>\n",
       "      <th>Geography</th>\n",
       "      <th>Gender</th>\n",
       "      <th>Age</th>\n",
       "      <th>Tenure_x</th>\n",
       "      <th>EstimatedSalary</th>\n",
       "      <th>Balance</th>\n",
       "      <th>NumOfProducts</th>\n",
       "      <th>HasCrCard</th>\n",
       "      <th>Tenure_y</th>\n",
       "      <th>IsActiveMember</th>\n",
       "      <th>Exited</th>\n",
       "    </tr>\n",
       "  </thead>\n",
       "  <tbody>\n",
       "    <tr>\n",
       "      <th>9999</th>\n",
       "      <td>15815628</td>\n",
       "      <td>Moysey</td>\n",
       "      <td>711</td>\n",
       "      <td>France</td>\n",
       "      <td>Female</td>\n",
       "      <td>37.0</td>\n",
       "      <td>8</td>\n",
       "      <td>€80215.2</td>\n",
       "      <td>€113899.92</td>\n",
       "      <td>1</td>\n",
       "      <td>No</td>\n",
       "      <td>8</td>\n",
       "      <td>No</td>\n",
       "      <td>0</td>\n",
       "    </tr>\n",
       "    <tr>\n",
       "      <th>10000</th>\n",
       "      <td>15815645</td>\n",
       "      <td>Akhtar</td>\n",
       "      <td>481</td>\n",
       "      <td>FRA</td>\n",
       "      <td>Male</td>\n",
       "      <td>37.0</td>\n",
       "      <td>8</td>\n",
       "      <td>€175082.2</td>\n",
       "      <td>€152303.66</td>\n",
       "      <td>2</td>\n",
       "      <td>Yes</td>\n",
       "      <td>8</td>\n",
       "      <td>Yes</td>\n",
       "      <td>0</td>\n",
       "    </tr>\n",
       "    <tr>\n",
       "      <th>10001</th>\n",
       "      <td>15815656</td>\n",
       "      <td>Hopkins</td>\n",
       "      <td>541</td>\n",
       "      <td>Germany</td>\n",
       "      <td>Female</td>\n",
       "      <td>39.0</td>\n",
       "      <td>9</td>\n",
       "      <td>€199808.1</td>\n",
       "      <td>€100116.67</td>\n",
       "      <td>1</td>\n",
       "      <td>Yes</td>\n",
       "      <td>9</td>\n",
       "      <td>Yes</td>\n",
       "      <td>1</td>\n",
       "    </tr>\n",
       "    <tr>\n",
       "      <th>10002</th>\n",
       "      <td>15815660</td>\n",
       "      <td>Mazzi</td>\n",
       "      <td>758</td>\n",
       "      <td>FRA</td>\n",
       "      <td>Female</td>\n",
       "      <td>34.0</td>\n",
       "      <td>1</td>\n",
       "      <td>€60728.89</td>\n",
       "      <td>€154139.45</td>\n",
       "      <td>1</td>\n",
       "      <td>Yes</td>\n",
       "      <td>1</td>\n",
       "      <td>Yes</td>\n",
       "      <td>0</td>\n",
       "    </tr>\n",
       "    <tr>\n",
       "      <th>10003</th>\n",
       "      <td>15815690</td>\n",
       "      <td>Akabueze</td>\n",
       "      <td>614</td>\n",
       "      <td>Spain</td>\n",
       "      <td>Female</td>\n",
       "      <td>40.0</td>\n",
       "      <td>3</td>\n",
       "      <td>€77789.01</td>\n",
       "      <td>€113348.5</td>\n",
       "      <td>1</td>\n",
       "      <td>Yes</td>\n",
       "      <td>3</td>\n",
       "      <td>Yes</td>\n",
       "      <td>0</td>\n",
       "    </tr>\n",
       "  </tbody>\n",
       "</table>\n",
       "</div>"
      ],
      "text/plain": [
       "       CustomerId   Surname  CreditScore Geography  Gender   Age  Tenure_x  \\\n",
       "9999     15815628    Moysey          711    France  Female  37.0         8   \n",
       "10000    15815645    Akhtar          481       FRA    Male  37.0         8   \n",
       "10001    15815656   Hopkins          541   Germany  Female  39.0         9   \n",
       "10002    15815660     Mazzi          758       FRA  Female  34.0         1   \n",
       "10003    15815690  Akabueze          614     Spain  Female  40.0         3   \n",
       "\n",
       "      EstimatedSalary     Balance  NumOfProducts HasCrCard  Tenure_y  \\\n",
       "9999         €80215.2  €113899.92              1        No         8   \n",
       "10000       €175082.2  €152303.66              2       Yes         8   \n",
       "10001       €199808.1  €100116.67              1       Yes         9   \n",
       "10002       €60728.89  €154139.45              1       Yes         1   \n",
       "10003       €77789.01   €113348.5              1       Yes         3   \n",
       "\n",
       "      IsActiveMember  Exited  \n",
       "9999              No       0  \n",
       "10000            Yes       0  \n",
       "10001            Yes       1  \n",
       "10002            Yes       0  \n",
       "10003            Yes       0  "
      ]
     },
     "execution_count": 14,
     "metadata": {},
     "output_type": "execute_result"
    }
   ],
   "source": [
    "data_df.tail()"
   ]
  },
  {
   "cell_type": "code",
   "execution_count": 15,
   "id": "9c712b5d-9833-4462-8cba-7be82b3725da",
   "metadata": {},
   "outputs": [
    {
     "name": "stdout",
     "output_type": "stream",
     "text": [
      "<class 'pandas.core.frame.DataFrame'>\n",
      "RangeIndex: 10004 entries, 0 to 10003\n",
      "Data columns (total 14 columns):\n",
      " #   Column           Non-Null Count  Dtype  \n",
      "---  ------           --------------  -----  \n",
      " 0   CustomerId       10004 non-null  int64  \n",
      " 1   Surname          10001 non-null  object \n",
      " 2   CreditScore      10004 non-null  int64  \n",
      " 3   Geography        10004 non-null  object \n",
      " 4   Gender           10004 non-null  object \n",
      " 5   Age              10001 non-null  float64\n",
      " 6   Tenure_x         10004 non-null  int64  \n",
      " 7   EstimatedSalary  10004 non-null  object \n",
      " 8   Balance          10004 non-null  object \n",
      " 9   NumOfProducts    10004 non-null  int64  \n",
      " 10  HasCrCard        10004 non-null  object \n",
      " 11  Tenure_y         10004 non-null  int64  \n",
      " 12  IsActiveMember   10004 non-null  object \n",
      " 13  Exited           10004 non-null  int64  \n",
      "dtypes: float64(1), int64(6), object(7)\n",
      "memory usage: 1.1+ MB\n"
     ]
    }
   ],
   "source": [
    "data_df.info() # This gives us a clear view of our values. The column name,total rows,if column has a null value and their datatypes"
   ]
  },
  {
   "cell_type": "code",
   "execution_count": 16,
   "id": "124fcf42-3aa6-4b0c-90ab-69a255ab102a",
   "metadata": {},
   "outputs": [
    {
     "data": {
      "text/plain": [
       "CustomerId         0\n",
       "Surname            3\n",
       "CreditScore        0\n",
       "Geography          0\n",
       "Gender             0\n",
       "Age                3\n",
       "Tenure_x           0\n",
       "EstimatedSalary    0\n",
       "Balance            0\n",
       "NumOfProducts      0\n",
       "HasCrCard          0\n",
       "Tenure_y           0\n",
       "IsActiveMember     0\n",
       "Exited             0\n",
       "dtype: int64"
      ]
     },
     "execution_count": 16,
     "metadata": {},
     "output_type": "execute_result"
    }
   ],
   "source": [
    "data_df.isnull().sum() # This shows the sum of each null values in a column"
   ]
  },
  {
   "cell_type": "code",
   "execution_count": 17,
   "id": "5ee131d6-6b38-4e1c-825c-b67e06f0061b",
   "metadata": {},
   "outputs": [
    {
     "data": {
      "text/plain": [
       "CustomerId         0.000000\n",
       "Surname            0.029988\n",
       "CreditScore        0.000000\n",
       "Geography          0.000000\n",
       "Gender             0.000000\n",
       "Age                0.029988\n",
       "Tenure_x           0.000000\n",
       "EstimatedSalary    0.000000\n",
       "Balance            0.000000\n",
       "NumOfProducts      0.000000\n",
       "HasCrCard          0.000000\n",
       "Tenure_y           0.000000\n",
       "IsActiveMember     0.000000\n",
       "Exited             0.000000\n",
       "dtype: float64"
      ]
     },
     "execution_count": 17,
     "metadata": {},
     "output_type": "execute_result"
    }
   ],
   "source": [
    "data_df.isnull().sum() / len(data_df) * 100 # This returns the significant sum of null values in percentage"
   ]
  },
  {
   "cell_type": "code",
   "execution_count": 18,
   "id": "8d60dc49-c8c8-45aa-8b50-3e240cddef7f",
   "metadata": {},
   "outputs": [
    {
     "data": {
      "text/plain": [
       "Index(['CustomerId', 'Surname', 'CreditScore', 'Geography', 'Gender', 'Age',\n",
       "       'Tenure_x', 'EstimatedSalary', 'Balance', 'NumOfProducts', 'HasCrCard',\n",
       "       'Tenure_y', 'IsActiveMember', 'Exited'],\n",
       "      dtype='object')"
      ]
     },
     "execution_count": 18,
     "metadata": {},
     "output_type": "execute_result"
    }
   ],
   "source": [
    "data_df.columns # This returns all the columns headers in the dataset"
   ]
  },
  {
   "cell_type": "code",
   "execution_count": 19,
   "id": "3389ea4e-5c4e-4258-97df-284d75e1e5f5",
   "metadata": {},
   "outputs": [
    {
     "data": {
      "text/plain": [
       "(10004, 14)"
      ]
     },
     "execution_count": 19,
     "metadata": {},
     "output_type": "execute_result"
    }
   ],
   "source": [
    "data_df.shape # This shows how many rows and column we have in our dataset"
   ]
  },
  {
   "cell_type": "code",
   "execution_count": 20,
   "id": "ba4e030a-96b3-441c-a0e8-0b7b9213be6e",
   "metadata": {},
   "outputs": [
    {
     "data": {
      "text/plain": [
       "4"
      ]
     },
     "execution_count": 20,
     "metadata": {},
     "output_type": "execute_result"
    }
   ],
   "source": [
    "data_df.duplicated().sum() # This returns the sum of duplicated rows "
   ]
  },
  {
   "cell_type": "code",
   "execution_count": 21,
   "id": "e46a140a-bb2b-4279-b586-97b4ad8c107b",
   "metadata": {},
   "outputs": [
    {
     "data": {
      "text/html": [
       "<div>\n",
       "<style scoped>\n",
       "    .dataframe tbody tr th:only-of-type {\n",
       "        vertical-align: middle;\n",
       "    }\n",
       "\n",
       "    .dataframe tbody tr th {\n",
       "        vertical-align: top;\n",
       "    }\n",
       "\n",
       "    .dataframe thead th {\n",
       "        text-align: right;\n",
       "    }\n",
       "</style>\n",
       "<table border=\"1\" class=\"dataframe\">\n",
       "  <thead>\n",
       "    <tr style=\"text-align: right;\">\n",
       "      <th></th>\n",
       "      <th>CustomerId</th>\n",
       "      <th>CreditScore</th>\n",
       "      <th>Age</th>\n",
       "      <th>Tenure_x</th>\n",
       "      <th>NumOfProducts</th>\n",
       "      <th>Tenure_y</th>\n",
       "      <th>Exited</th>\n",
       "    </tr>\n",
       "  </thead>\n",
       "  <tbody>\n",
       "    <tr>\n",
       "      <th>count</th>\n",
       "      <td>1.000400e+04</td>\n",
       "      <td>10004.000000</td>\n",
       "      <td>10001.000000</td>\n",
       "      <td>10004.000000</td>\n",
       "      <td>10004.000000</td>\n",
       "      <td>10004.000000</td>\n",
       "      <td>10004.000000</td>\n",
       "    </tr>\n",
       "    <tr>\n",
       "      <th>mean</th>\n",
       "      <td>1.569092e+07</td>\n",
       "      <td>650.568073</td>\n",
       "      <td>38.919108</td>\n",
       "      <td>5.012195</td>\n",
       "      <td>1.529988</td>\n",
       "      <td>5.012195</td>\n",
       "      <td>0.203719</td>\n",
       "    </tr>\n",
       "    <tr>\n",
       "      <th>std</th>\n",
       "      <td>7.193218e+04</td>\n",
       "      <td>96.665531</td>\n",
       "      <td>10.488725</td>\n",
       "      <td>2.891806</td>\n",
       "      <td>0.581635</td>\n",
       "      <td>2.891806</td>\n",
       "      <td>0.402782</td>\n",
       "    </tr>\n",
       "    <tr>\n",
       "      <th>min</th>\n",
       "      <td>1.556570e+07</td>\n",
       "      <td>350.000000</td>\n",
       "      <td>18.000000</td>\n",
       "      <td>0.000000</td>\n",
       "      <td>1.000000</td>\n",
       "      <td>0.000000</td>\n",
       "      <td>0.000000</td>\n",
       "    </tr>\n",
       "    <tr>\n",
       "      <th>25%</th>\n",
       "      <td>1.562839e+07</td>\n",
       "      <td>584.000000</td>\n",
       "      <td>32.000000</td>\n",
       "      <td>3.000000</td>\n",
       "      <td>1.000000</td>\n",
       "      <td>3.000000</td>\n",
       "      <td>0.000000</td>\n",
       "    </tr>\n",
       "    <tr>\n",
       "      <th>50%</th>\n",
       "      <td>1.569071e+07</td>\n",
       "      <td>652.000000</td>\n",
       "      <td>37.000000</td>\n",
       "      <td>5.000000</td>\n",
       "      <td>1.000000</td>\n",
       "      <td>5.000000</td>\n",
       "      <td>0.000000</td>\n",
       "    </tr>\n",
       "    <tr>\n",
       "      <th>75%</th>\n",
       "      <td>1.575322e+07</td>\n",
       "      <td>718.000000</td>\n",
       "      <td>44.000000</td>\n",
       "      <td>7.000000</td>\n",
       "      <td>2.000000</td>\n",
       "      <td>7.000000</td>\n",
       "      <td>0.000000</td>\n",
       "    </tr>\n",
       "    <tr>\n",
       "      <th>max</th>\n",
       "      <td>1.581569e+07</td>\n",
       "      <td>850.000000</td>\n",
       "      <td>92.000000</td>\n",
       "      <td>10.000000</td>\n",
       "      <td>4.000000</td>\n",
       "      <td>10.000000</td>\n",
       "      <td>1.000000</td>\n",
       "    </tr>\n",
       "  </tbody>\n",
       "</table>\n",
       "</div>"
      ],
      "text/plain": [
       "         CustomerId   CreditScore           Age      Tenure_x  NumOfProducts  \\\n",
       "count  1.000400e+04  10004.000000  10001.000000  10004.000000   10004.000000   \n",
       "mean   1.569092e+07    650.568073     38.919108      5.012195       1.529988   \n",
       "std    7.193218e+04     96.665531     10.488725      2.891806       0.581635   \n",
       "min    1.556570e+07    350.000000     18.000000      0.000000       1.000000   \n",
       "25%    1.562839e+07    584.000000     32.000000      3.000000       1.000000   \n",
       "50%    1.569071e+07    652.000000     37.000000      5.000000       1.000000   \n",
       "75%    1.575322e+07    718.000000     44.000000      7.000000       2.000000   \n",
       "max    1.581569e+07    850.000000     92.000000     10.000000       4.000000   \n",
       "\n",
       "           Tenure_y        Exited  \n",
       "count  10004.000000  10004.000000  \n",
       "mean       5.012195      0.203719  \n",
       "std        2.891806      0.402782  \n",
       "min        0.000000      0.000000  \n",
       "25%        3.000000      0.000000  \n",
       "50%        5.000000      0.000000  \n",
       "75%        7.000000      0.000000  \n",
       "max       10.000000      1.000000  "
      ]
     },
     "execution_count": 21,
     "metadata": {},
     "output_type": "execute_result"
    }
   ],
   "source": [
    "data_df.describe() # This returns the statistics of the data"
   ]
  },
  {
   "cell_type": "markdown",
   "id": "db038ad3-88ce-4acf-8dd3-a970710fdb3f",
   "metadata": {},
   "source": [
    "## Observations\n",
    "- We noticed surname and age has null values\n",
    "- We need to rename Geography for easy understanding\n",
    "- Remove characters in Balance and Estimated Salary\n",
    "- We would change the datatypes for Age, Balance and Estimated Salary\n",
    "- We have 2 tenure columns, 1 will be dropped "
   ]
  },
  {
   "cell_type": "markdown",
   "id": "276b4eda-c332-4cc0-b8ed-4cee3eefe71b",
   "metadata": {},
   "source": [
    "### Data Cleaning"
   ]
  },
  {
   "cell_type": "code",
   "execution_count": 22,
   "id": "057a0319-244a-40a8-99f1-f6728f45ebe0",
   "metadata": {},
   "outputs": [],
   "source": [
    "# Before we alter our data we must make a copy\n",
    "data_copy = data_df.copy()"
   ]
  },
  {
   "cell_type": "code",
   "execution_count": 23,
   "id": "84bde25f-4db5-482f-977b-f50c3495e633",
   "metadata": {},
   "outputs": [],
   "source": [
    "# removing our rows with null values\n",
    "data_df.dropna(subset=['Surname', 'Age'], axis=0, inplace=True)"
   ]
  },
  {
   "cell_type": "code",
   "execution_count": 24,
   "id": "d9b526f6-77a2-45df-8f9d-d1a3761d4d7a",
   "metadata": {},
   "outputs": [
    {
     "name": "stdout",
     "output_type": "stream",
     "text": [
      "<class 'pandas.core.frame.DataFrame'>\n",
      "Index: 10001 entries, 0 to 10003\n",
      "Data columns (total 14 columns):\n",
      " #   Column           Non-Null Count  Dtype  \n",
      "---  ------           --------------  -----  \n",
      " 0   CustomerId       10001 non-null  int64  \n",
      " 1   Surname          10001 non-null  object \n",
      " 2   CreditScore      10001 non-null  int64  \n",
      " 3   Geography        10001 non-null  object \n",
      " 4   Gender           10001 non-null  object \n",
      " 5   Age              10001 non-null  float64\n",
      " 6   Tenure_x         10001 non-null  int64  \n",
      " 7   EstimatedSalary  10001 non-null  object \n",
      " 8   Balance          10001 non-null  object \n",
      " 9   NumOfProducts    10001 non-null  int64  \n",
      " 10  HasCrCard        10001 non-null  object \n",
      " 11  Tenure_y         10001 non-null  int64  \n",
      " 12  IsActiveMember   10001 non-null  object \n",
      " 13  Exited           10001 non-null  int64  \n",
      "dtypes: float64(1), int64(6), object(7)\n",
      "memory usage: 1.1+ MB\n"
     ]
    }
   ],
   "source": [
    "data_df.info()"
   ]
  },
  {
   "cell_type": "code",
   "execution_count": 25,
   "id": "61038044-3320-4483-b75f-2a602d5117cf",
   "metadata": {},
   "outputs": [],
   "source": [
    "# Renaming our column geography to location\n",
    "data_df.rename(columns = {'Geography' : 'Location'}, inplace = True)"
   ]
  },
  {
   "cell_type": "code",
   "execution_count": 26,
   "id": "d9d0feb4-90aa-4312-94a8-e0ad1d074a3c",
   "metadata": {},
   "outputs": [
    {
     "data": {
      "text/plain": [
       "Index(['CustomerId', 'Surname', 'CreditScore', 'Location', 'Gender', 'Age',\n",
       "       'Tenure_x', 'EstimatedSalary', 'Balance', 'NumOfProducts', 'HasCrCard',\n",
       "       'Tenure_y', 'IsActiveMember', 'Exited'],\n",
       "      dtype='object')"
      ]
     },
     "execution_count": 26,
     "metadata": {},
     "output_type": "execute_result"
    }
   ],
   "source": [
    "data_df.columns"
   ]
  },
  {
   "cell_type": "code",
   "execution_count": 27,
   "id": "b763ee32-0d9b-41be-a76b-25fed39ec469",
   "metadata": {},
   "outputs": [],
   "source": [
    "# Removing the currency symbol to enable us change the datatype to float\n",
    "data_df['Balance'] = data_df['Balance'].str.replace(\"€\",\"\")"
   ]
  },
  {
   "cell_type": "code",
   "execution_count": 28,
   "id": "30fc4f72-3767-4335-aabb-d47915fb380f",
   "metadata": {},
   "outputs": [],
   "source": [
    "data_df['EstimatedSalary'] = data_df['EstimatedSalary'].str.replace(\"€\",\"\")"
   ]
  },
  {
   "cell_type": "code",
   "execution_count": 29,
   "id": "b51e6e5e-46cc-423e-87ff-f7d51a49bcab",
   "metadata": {},
   "outputs": [
    {
     "data": {
      "text/html": [
       "<div>\n",
       "<style scoped>\n",
       "    .dataframe tbody tr th:only-of-type {\n",
       "        vertical-align: middle;\n",
       "    }\n",
       "\n",
       "    .dataframe tbody tr th {\n",
       "        vertical-align: top;\n",
       "    }\n",
       "\n",
       "    .dataframe thead th {\n",
       "        text-align: right;\n",
       "    }\n",
       "</style>\n",
       "<table border=\"1\" class=\"dataframe\">\n",
       "  <thead>\n",
       "    <tr style=\"text-align: right;\">\n",
       "      <th></th>\n",
       "      <th>CustomerId</th>\n",
       "      <th>Surname</th>\n",
       "      <th>CreditScore</th>\n",
       "      <th>Location</th>\n",
       "      <th>Gender</th>\n",
       "      <th>Age</th>\n",
       "      <th>Tenure_x</th>\n",
       "      <th>EstimatedSalary</th>\n",
       "      <th>Balance</th>\n",
       "      <th>NumOfProducts</th>\n",
       "      <th>HasCrCard</th>\n",
       "      <th>Tenure_y</th>\n",
       "      <th>IsActiveMember</th>\n",
       "      <th>Exited</th>\n",
       "    </tr>\n",
       "  </thead>\n",
       "  <tbody>\n",
       "    <tr>\n",
       "      <th>0</th>\n",
       "      <td>15565701</td>\n",
       "      <td>Ferri</td>\n",
       "      <td>698</td>\n",
       "      <td>Spain</td>\n",
       "      <td>Female</td>\n",
       "      <td>39.0</td>\n",
       "      <td>9</td>\n",
       "      <td>90212.38</td>\n",
       "      <td>161993.89</td>\n",
       "      <td>1</td>\n",
       "      <td>No</td>\n",
       "      <td>9</td>\n",
       "      <td>No</td>\n",
       "      <td>0</td>\n",
       "    </tr>\n",
       "    <tr>\n",
       "      <th>1</th>\n",
       "      <td>15565706</td>\n",
       "      <td>Akobundu</td>\n",
       "      <td>612</td>\n",
       "      <td>Spain</td>\n",
       "      <td>Male</td>\n",
       "      <td>35.0</td>\n",
       "      <td>1</td>\n",
       "      <td>83256.26</td>\n",
       "      <td>0.0</td>\n",
       "      <td>1</td>\n",
       "      <td>Yes</td>\n",
       "      <td>1</td>\n",
       "      <td>Yes</td>\n",
       "      <td>1</td>\n",
       "    </tr>\n",
       "    <tr>\n",
       "      <th>2</th>\n",
       "      <td>15565714</td>\n",
       "      <td>Cattaneo</td>\n",
       "      <td>601</td>\n",
       "      <td>France</td>\n",
       "      <td>Male</td>\n",
       "      <td>47.0</td>\n",
       "      <td>1</td>\n",
       "      <td>96517.97</td>\n",
       "      <td>64430.06</td>\n",
       "      <td>2</td>\n",
       "      <td>Yes</td>\n",
       "      <td>1</td>\n",
       "      <td>Yes</td>\n",
       "      <td>0</td>\n",
       "    </tr>\n",
       "    <tr>\n",
       "      <th>3</th>\n",
       "      <td>15565779</td>\n",
       "      <td>Kent</td>\n",
       "      <td>627</td>\n",
       "      <td>Germany</td>\n",
       "      <td>Female</td>\n",
       "      <td>30.0</td>\n",
       "      <td>6</td>\n",
       "      <td>188258.49</td>\n",
       "      <td>57809.32</td>\n",
       "      <td>1</td>\n",
       "      <td>No</td>\n",
       "      <td>6</td>\n",
       "      <td>No</td>\n",
       "      <td>0</td>\n",
       "    </tr>\n",
       "    <tr>\n",
       "      <th>4</th>\n",
       "      <td>15565796</td>\n",
       "      <td>Docherty</td>\n",
       "      <td>745</td>\n",
       "      <td>Germany</td>\n",
       "      <td>Male</td>\n",
       "      <td>48.0</td>\n",
       "      <td>10</td>\n",
       "      <td>74510.65</td>\n",
       "      <td>96048.55</td>\n",
       "      <td>1</td>\n",
       "      <td>No</td>\n",
       "      <td>10</td>\n",
       "      <td>No</td>\n",
       "      <td>0</td>\n",
       "    </tr>\n",
       "  </tbody>\n",
       "</table>\n",
       "</div>"
      ],
      "text/plain": [
       "   CustomerId   Surname  CreditScore Location  Gender   Age  Tenure_x  \\\n",
       "0    15565701     Ferri          698    Spain  Female  39.0         9   \n",
       "1    15565706  Akobundu          612    Spain    Male  35.0         1   \n",
       "2    15565714  Cattaneo          601   France    Male  47.0         1   \n",
       "3    15565779      Kent          627  Germany  Female  30.0         6   \n",
       "4    15565796  Docherty          745  Germany    Male  48.0        10   \n",
       "\n",
       "  EstimatedSalary    Balance  NumOfProducts HasCrCard  Tenure_y  \\\n",
       "0        90212.38  161993.89              1        No         9   \n",
       "1        83256.26        0.0              1       Yes         1   \n",
       "2        96517.97   64430.06              2       Yes         1   \n",
       "3       188258.49   57809.32              1        No         6   \n",
       "4        74510.65   96048.55              1        No        10   \n",
       "\n",
       "  IsActiveMember  Exited  \n",
       "0             No       0  \n",
       "1            Yes       1  \n",
       "2            Yes       0  \n",
       "3             No       0  \n",
       "4             No       0  "
      ]
     },
     "execution_count": 29,
     "metadata": {},
     "output_type": "execute_result"
    }
   ],
   "source": [
    "data_df.head()"
   ]
  },
  {
   "cell_type": "code",
   "execution_count": 30,
   "id": "b03cf6e9-3658-4ce3-b034-6378409e8005",
   "metadata": {},
   "outputs": [
    {
     "data": {
      "text/html": [
       "<div>\n",
       "<style scoped>\n",
       "    .dataframe tbody tr th:only-of-type {\n",
       "        vertical-align: middle;\n",
       "    }\n",
       "\n",
       "    .dataframe tbody tr th {\n",
       "        vertical-align: top;\n",
       "    }\n",
       "\n",
       "    .dataframe thead th {\n",
       "        text-align: right;\n",
       "    }\n",
       "</style>\n",
       "<table border=\"1\" class=\"dataframe\">\n",
       "  <thead>\n",
       "    <tr style=\"text-align: right;\">\n",
       "      <th></th>\n",
       "      <th>CustomerId</th>\n",
       "      <th>Surname</th>\n",
       "      <th>CreditScore</th>\n",
       "      <th>Location</th>\n",
       "      <th>Gender</th>\n",
       "      <th>Age</th>\n",
       "      <th>Tenure_x</th>\n",
       "      <th>EstimatedSalary</th>\n",
       "      <th>Balance</th>\n",
       "      <th>NumOfProducts</th>\n",
       "      <th>HasCrCard</th>\n",
       "      <th>Tenure_y</th>\n",
       "      <th>IsActiveMember</th>\n",
       "      <th>Exited</th>\n",
       "    </tr>\n",
       "  </thead>\n",
       "  <tbody>\n",
       "    <tr>\n",
       "      <th>9999</th>\n",
       "      <td>15815628</td>\n",
       "      <td>Moysey</td>\n",
       "      <td>711</td>\n",
       "      <td>France</td>\n",
       "      <td>Female</td>\n",
       "      <td>37.0</td>\n",
       "      <td>8</td>\n",
       "      <td>80215.2</td>\n",
       "      <td>113899.92</td>\n",
       "      <td>1</td>\n",
       "      <td>No</td>\n",
       "      <td>8</td>\n",
       "      <td>No</td>\n",
       "      <td>0</td>\n",
       "    </tr>\n",
       "    <tr>\n",
       "      <th>10000</th>\n",
       "      <td>15815645</td>\n",
       "      <td>Akhtar</td>\n",
       "      <td>481</td>\n",
       "      <td>FRA</td>\n",
       "      <td>Male</td>\n",
       "      <td>37.0</td>\n",
       "      <td>8</td>\n",
       "      <td>175082.2</td>\n",
       "      <td>152303.66</td>\n",
       "      <td>2</td>\n",
       "      <td>Yes</td>\n",
       "      <td>8</td>\n",
       "      <td>Yes</td>\n",
       "      <td>0</td>\n",
       "    </tr>\n",
       "    <tr>\n",
       "      <th>10001</th>\n",
       "      <td>15815656</td>\n",
       "      <td>Hopkins</td>\n",
       "      <td>541</td>\n",
       "      <td>Germany</td>\n",
       "      <td>Female</td>\n",
       "      <td>39.0</td>\n",
       "      <td>9</td>\n",
       "      <td>199808.1</td>\n",
       "      <td>100116.67</td>\n",
       "      <td>1</td>\n",
       "      <td>Yes</td>\n",
       "      <td>9</td>\n",
       "      <td>Yes</td>\n",
       "      <td>1</td>\n",
       "    </tr>\n",
       "    <tr>\n",
       "      <th>10002</th>\n",
       "      <td>15815660</td>\n",
       "      <td>Mazzi</td>\n",
       "      <td>758</td>\n",
       "      <td>FRA</td>\n",
       "      <td>Female</td>\n",
       "      <td>34.0</td>\n",
       "      <td>1</td>\n",
       "      <td>60728.89</td>\n",
       "      <td>154139.45</td>\n",
       "      <td>1</td>\n",
       "      <td>Yes</td>\n",
       "      <td>1</td>\n",
       "      <td>Yes</td>\n",
       "      <td>0</td>\n",
       "    </tr>\n",
       "    <tr>\n",
       "      <th>10003</th>\n",
       "      <td>15815690</td>\n",
       "      <td>Akabueze</td>\n",
       "      <td>614</td>\n",
       "      <td>Spain</td>\n",
       "      <td>Female</td>\n",
       "      <td>40.0</td>\n",
       "      <td>3</td>\n",
       "      <td>77789.01</td>\n",
       "      <td>113348.5</td>\n",
       "      <td>1</td>\n",
       "      <td>Yes</td>\n",
       "      <td>3</td>\n",
       "      <td>Yes</td>\n",
       "      <td>0</td>\n",
       "    </tr>\n",
       "  </tbody>\n",
       "</table>\n",
       "</div>"
      ],
      "text/plain": [
       "       CustomerId   Surname  CreditScore Location  Gender   Age  Tenure_x  \\\n",
       "9999     15815628    Moysey          711   France  Female  37.0         8   \n",
       "10000    15815645    Akhtar          481      FRA    Male  37.0         8   \n",
       "10001    15815656   Hopkins          541  Germany  Female  39.0         9   \n",
       "10002    15815660     Mazzi          758      FRA  Female  34.0         1   \n",
       "10003    15815690  Akabueze          614    Spain  Female  40.0         3   \n",
       "\n",
       "      EstimatedSalary    Balance  NumOfProducts HasCrCard  Tenure_y  \\\n",
       "9999          80215.2  113899.92              1        No         8   \n",
       "10000        175082.2  152303.66              2       Yes         8   \n",
       "10001        199808.1  100116.67              1       Yes         9   \n",
       "10002        60728.89  154139.45              1       Yes         1   \n",
       "10003        77789.01   113348.5              1       Yes         3   \n",
       "\n",
       "      IsActiveMember  Exited  \n",
       "9999              No       0  \n",
       "10000            Yes       0  \n",
       "10001            Yes       1  \n",
       "10002            Yes       0  \n",
       "10003            Yes       0  "
      ]
     },
     "execution_count": 30,
     "metadata": {},
     "output_type": "execute_result"
    }
   ],
   "source": [
    "data_df.tail()"
   ]
  },
  {
   "cell_type": "code",
   "execution_count": 31,
   "id": "3551543a-98b8-4691-b1dc-93c2dfb732b9",
   "metadata": {},
   "outputs": [],
   "source": [
    "# Converting our datatype using the astype function\n",
    "data_df['Age'] = data_df['Age'].astype('int')\n",
    "data_df['Balance'] = data_df['Balance'].astype('float')\n",
    "data_df['EstimatedSalary'] = data_df['EstimatedSalary'].astype('float')"
   ]
  },
  {
   "cell_type": "code",
   "execution_count": 32,
   "id": "ab9a70f1-2856-49fd-8543-e0c860541fb4",
   "metadata": {},
   "outputs": [
    {
     "name": "stdout",
     "output_type": "stream",
     "text": [
      "<class 'pandas.core.frame.DataFrame'>\n",
      "Index: 10001 entries, 0 to 10003\n",
      "Data columns (total 14 columns):\n",
      " #   Column           Non-Null Count  Dtype  \n",
      "---  ------           --------------  -----  \n",
      " 0   CustomerId       10001 non-null  int64  \n",
      " 1   Surname          10001 non-null  object \n",
      " 2   CreditScore      10001 non-null  int64  \n",
      " 3   Location         10001 non-null  object \n",
      " 4   Gender           10001 non-null  object \n",
      " 5   Age              10001 non-null  int32  \n",
      " 6   Tenure_x         10001 non-null  int64  \n",
      " 7   EstimatedSalary  10001 non-null  float64\n",
      " 8   Balance          10001 non-null  float64\n",
      " 9   NumOfProducts    10001 non-null  int64  \n",
      " 10  HasCrCard        10001 non-null  object \n",
      " 11  Tenure_y         10001 non-null  int64  \n",
      " 12  IsActiveMember   10001 non-null  object \n",
      " 13  Exited           10001 non-null  int64  \n",
      "dtypes: float64(2), int32(1), int64(6), object(5)\n",
      "memory usage: 1.1+ MB\n"
     ]
    }
   ],
   "source": [
    "data_df.info()"
   ]
  },
  {
   "cell_type": "code",
   "execution_count": 33,
   "id": "d90734d5-2889-4ff5-a84c-d2cbf363440c",
   "metadata": {},
   "outputs": [],
   "source": [
    "# Droping one of the tenure columns\n",
    "data_df.drop('Tenure_y', axis=1, inplace=True)"
   ]
  },
  {
   "cell_type": "code",
   "execution_count": 34,
   "id": "203d2aa9-7a77-4d36-9151-af8c5a22b026",
   "metadata": {},
   "outputs": [
    {
     "data": {
      "text/html": [
       "<div>\n",
       "<style scoped>\n",
       "    .dataframe tbody tr th:only-of-type {\n",
       "        vertical-align: middle;\n",
       "    }\n",
       "\n",
       "    .dataframe tbody tr th {\n",
       "        vertical-align: top;\n",
       "    }\n",
       "\n",
       "    .dataframe thead th {\n",
       "        text-align: right;\n",
       "    }\n",
       "</style>\n",
       "<table border=\"1\" class=\"dataframe\">\n",
       "  <thead>\n",
       "    <tr style=\"text-align: right;\">\n",
       "      <th></th>\n",
       "      <th>CustomerId</th>\n",
       "      <th>Surname</th>\n",
       "      <th>CreditScore</th>\n",
       "      <th>Location</th>\n",
       "      <th>Gender</th>\n",
       "      <th>Age</th>\n",
       "      <th>Tenure_x</th>\n",
       "      <th>EstimatedSalary</th>\n",
       "      <th>Balance</th>\n",
       "      <th>NumOfProducts</th>\n",
       "      <th>HasCrCard</th>\n",
       "      <th>IsActiveMember</th>\n",
       "      <th>Exited</th>\n",
       "    </tr>\n",
       "  </thead>\n",
       "  <tbody>\n",
       "    <tr>\n",
       "      <th>0</th>\n",
       "      <td>15565701</td>\n",
       "      <td>Ferri</td>\n",
       "      <td>698</td>\n",
       "      <td>Spain</td>\n",
       "      <td>Female</td>\n",
       "      <td>39</td>\n",
       "      <td>9</td>\n",
       "      <td>90212.38</td>\n",
       "      <td>161993.89</td>\n",
       "      <td>1</td>\n",
       "      <td>No</td>\n",
       "      <td>No</td>\n",
       "      <td>0</td>\n",
       "    </tr>\n",
       "    <tr>\n",
       "      <th>1</th>\n",
       "      <td>15565706</td>\n",
       "      <td>Akobundu</td>\n",
       "      <td>612</td>\n",
       "      <td>Spain</td>\n",
       "      <td>Male</td>\n",
       "      <td>35</td>\n",
       "      <td>1</td>\n",
       "      <td>83256.26</td>\n",
       "      <td>0.00</td>\n",
       "      <td>1</td>\n",
       "      <td>Yes</td>\n",
       "      <td>Yes</td>\n",
       "      <td>1</td>\n",
       "    </tr>\n",
       "    <tr>\n",
       "      <th>2</th>\n",
       "      <td>15565714</td>\n",
       "      <td>Cattaneo</td>\n",
       "      <td>601</td>\n",
       "      <td>France</td>\n",
       "      <td>Male</td>\n",
       "      <td>47</td>\n",
       "      <td>1</td>\n",
       "      <td>96517.97</td>\n",
       "      <td>64430.06</td>\n",
       "      <td>2</td>\n",
       "      <td>Yes</td>\n",
       "      <td>Yes</td>\n",
       "      <td>0</td>\n",
       "    </tr>\n",
       "    <tr>\n",
       "      <th>3</th>\n",
       "      <td>15565779</td>\n",
       "      <td>Kent</td>\n",
       "      <td>627</td>\n",
       "      <td>Germany</td>\n",
       "      <td>Female</td>\n",
       "      <td>30</td>\n",
       "      <td>6</td>\n",
       "      <td>188258.49</td>\n",
       "      <td>57809.32</td>\n",
       "      <td>1</td>\n",
       "      <td>No</td>\n",
       "      <td>No</td>\n",
       "      <td>0</td>\n",
       "    </tr>\n",
       "    <tr>\n",
       "      <th>4</th>\n",
       "      <td>15565796</td>\n",
       "      <td>Docherty</td>\n",
       "      <td>745</td>\n",
       "      <td>Germany</td>\n",
       "      <td>Male</td>\n",
       "      <td>48</td>\n",
       "      <td>10</td>\n",
       "      <td>74510.65</td>\n",
       "      <td>96048.55</td>\n",
       "      <td>1</td>\n",
       "      <td>No</td>\n",
       "      <td>No</td>\n",
       "      <td>0</td>\n",
       "    </tr>\n",
       "  </tbody>\n",
       "</table>\n",
       "</div>"
      ],
      "text/plain": [
       "   CustomerId   Surname  CreditScore Location  Gender  Age  Tenure_x  \\\n",
       "0    15565701     Ferri          698    Spain  Female   39         9   \n",
       "1    15565706  Akobundu          612    Spain    Male   35         1   \n",
       "2    15565714  Cattaneo          601   France    Male   47         1   \n",
       "3    15565779      Kent          627  Germany  Female   30         6   \n",
       "4    15565796  Docherty          745  Germany    Male   48        10   \n",
       "\n",
       "   EstimatedSalary    Balance  NumOfProducts HasCrCard IsActiveMember  Exited  \n",
       "0         90212.38  161993.89              1        No             No       0  \n",
       "1         83256.26       0.00              1       Yes            Yes       1  \n",
       "2         96517.97   64430.06              2       Yes            Yes       0  \n",
       "3        188258.49   57809.32              1        No             No       0  \n",
       "4         74510.65   96048.55              1        No             No       0  "
      ]
     },
     "execution_count": 34,
     "metadata": {},
     "output_type": "execute_result"
    }
   ],
   "source": [
    "data_df.head()"
   ]
  },
  {
   "cell_type": "code",
   "execution_count": 35,
   "id": "961e1bc2-e237-40b7-8735-e9121fcfd5e9",
   "metadata": {},
   "outputs": [],
   "source": [
    "# Renaming the tenure column\n",
    "data_df.rename(columns = {'Tenure_x' : 'Tenure'}, inplace = True)"
   ]
  },
  {
   "cell_type": "code",
   "execution_count": 36,
   "id": "88c3f244-6887-49bd-938b-dcd4e846b558",
   "metadata": {},
   "outputs": [
    {
     "data": {
      "text/plain": [
       "Index(['CustomerId', 'Surname', 'CreditScore', 'Location', 'Gender', 'Age',\n",
       "       'Tenure', 'EstimatedSalary', 'Balance', 'NumOfProducts', 'HasCrCard',\n",
       "       'IsActiveMember', 'Exited'],\n",
       "      dtype='object')"
      ]
     },
     "execution_count": 36,
     "metadata": {},
     "output_type": "execute_result"
    }
   ],
   "source": [
    "data_df.columns"
   ]
  },
  {
   "cell_type": "markdown",
   "id": "9012a4fb-9c7b-4a37-adac-89d7553f8d21",
   "metadata": {},
   "source": [
    "### Data Analysis\n"
   ]
  },
  {
   "cell_type": "code",
   "execution_count": 37,
   "id": "c909fcd3-351b-45c5-8f2b-2494a2628c5c",
   "metadata": {},
   "outputs": [],
   "source": [
    "# In order to visualize the count of category columns we need to get all the coulmns\n",
    "cat_columns = [i for i in data_df.select_dtypes('object')]"
   ]
  },
  {
   "cell_type": "code",
   "execution_count": 38,
   "id": "4aecf61c-9e05-446b-b970-8a0a13103a33",
   "metadata": {},
   "outputs": [
    {
     "data": {
      "text/plain": [
       "['Surname', 'Location', 'Gender', 'HasCrCard', 'IsActiveMember']"
      ]
     },
     "execution_count": 38,
     "metadata": {},
     "output_type": "execute_result"
    }
   ],
   "source": [
    "# These are all the categorical columns in our dataset\n",
    "cat_columns"
   ]
  },
  {
   "cell_type": "code",
   "execution_count": 39,
   "id": "34010fc2-bd5e-4837-bc3e-4790d7e1db6c",
   "metadata": {},
   "outputs": [
    {
     "data": {
      "image/png": "[encoded data removed]",
      "text/plain": [
       "<Figure size 640x480 with 1 Axes>"
      ]
     },
     "metadata": {},
     "output_type": "display_data"
    },
    {
     "data": {
      "image/png": "[encoded data removed]",
      "text/plain": [
       "<Figure size 640x480 with 1 Axes>"
      ]
     },
     "metadata": {},
     "output_type": "display_data"
    },
    {
     "data": {
      "image/png": "[encoded data removed]",
      "text/plain": [
       "<Figure size 640x480 with 1 Axes>"
      ]
     },
     "metadata": {},
     "output_type": "display_data"
    },
    {
     "data": {
      "image/png": "[encoded data removed]",
      "text/plain": [
       "<Figure size 640x480 with 1 Axes>"
      ]
     },
     "metadata": {},
     "output_type": "display_data"
    },
    {
     "data": {
      "image/png": "[encoded data removed]",
      "text/plain": [
       "<Figure size 640x480 with 1 Axes>"
      ]
     },
     "metadata": {},
     "output_type": "display_data"
    }
   ],
   "source": [
    "# Using the categorical column to plot a seaborn count plot\n",
    "for col in cat_columns:\n",
    "    sb.countplot(y=col,data=data_df)\n",
    "    plt.title(f'Countplot of {col}')\n",
    "    plt.show()"
   ]
  },
  {
   "cell_type": "markdown",
   "id": "b2e7a016-b3f1-452b-a6fa-b8564867d32b",
   "metadata": {},
   "source": [
    "#### Observations\n",
    "- Courtesy of the huge data, the name plot is compacted\n",
    "- Germany has the highest count in location\n",
    "-  In gender count male surpasses the female\n",
    "-  Most of the customers have credit cards\n",
    "-  Most customers are active"
   ]
  },
  {
   "cell_type": "code",
   "execution_count": 40,
   "id": "a34f9df5-d366-45d6-b370-c7c8caa306e2",
   "metadata": {},
   "outputs": [],
   "source": [
    "# Would love to visualize our numerical columns \n",
    "num_columns = [i for i in data_df.select_dtypes('int','float')]"
   ]
  },
  {
   "cell_type": "code",
   "execution_count": 41,
   "id": "a0a692bd-704b-4937-93b2-f2ab4313fe2a",
   "metadata": {},
   "outputs": [
    {
     "data": {
      "text/plain": [
       "['CustomerId', 'CreditScore', 'Age', 'Tenure', 'NumOfProducts', 'Exited']"
      ]
     },
     "execution_count": 41,
     "metadata": {},
     "output_type": "execute_result"
    }
   ],
   "source": [
    "# This are the numerical columns in our dataset\n",
    "num_columns"
   ]
  },
  {
   "cell_type": "code",
   "execution_count": 42,
   "id": "bd53fea7-21fd-4eca-8e0d-0b0f056bd5df",
   "metadata": {},
   "outputs": [
    {
     "data": {
      "image/png": "[encoded data removed]",
      "text/plain": [
       "<Figure size 640x480 with 1 Axes>"
      ]
     },
     "metadata": {},
     "output_type": "display_data"
    },
    {
     "data": {
      "image/png": "[encoded data removed]",
      "text/plain": [
       "<Figure size 640x480 with 1 Axes>"
      ]
     },
     "metadata": {},
     "output_type": "display_data"
    },
    {
     "data": {
      "image/png": "[encoded data removed]",
      "text/plain": [
       "<Figure size 640x480 with 1 Axes>"
      ]
     },
     "metadata": {},
     "output_type": "display_data"
    },
    {
     "data": {
      "image/png": "[encoded data removed]",
      "text/plain": [
       "<Figure size 640x480 with 1 Axes>"
      ]
     },
     "metadata": {},
     "output_type": "display_data"
    },
    {
     "data": {
      "image/png": "[encoded data removed]",
      "text/plain": [
       "<Figure size 640x480 with 1 Axes>"
      ]
     },
     "metadata": {},
     "output_type": "display_data"
    },
    {
     "data": {
      "image/png": "[encoded data removed]",
      "text/plain": [
       "<Figure size 640x480 with 1 Axes>"
      ]
     },
     "metadata": {},
     "output_type": "display_data"
    }
   ],
   "source": [
    "# Plotting our historical graph to visual each columns \n",
    "for col in num_columns:\n",
    "    plt.hist(data_df[col], edgecolor='black')\n",
    "    plt.title(f'Histogram of {col}')\n",
    "    plt.show()\n",
    "    "
   ]
  },
  {
   "cell_type": "markdown",
   "id": "932ebe29-5d55-40f6-bcb4-f76627ac388f",
   "metadata": {},
   "source": [
    "#### Observations\n",
    "- CustomerId is showing a close margin distribution\n",
    "- the highest in credit score is within 650 to 700\n",
    "- The highest age range is 30 to 40\n",
    "- The longest tenure is 9 to 10\n",
    "- Age, Exited, NumofProducts and Tenure show a distribution that is indicating there is an outliers "
   ]
  },
  {
   "cell_type": "markdown",
   "id": "627f53ba-61dc-4cbc-bb1a-9a19ae88f1b0",
   "metadata": {},
   "source": [
    "#### Demographic Analysis"
   ]
  },
  {
   "cell_type": "markdown",
   "id": "d1347cfb-318e-4e7c-981e-63442f1fe80c",
   "metadata": {},
   "source": [
    "1.   Analyze the distribution of customers based on geography, gender, and age"
   ]
  },
  {
   "cell_type": "code",
   "execution_count": 81,
   "id": "234a77ea-9f59-41b9-afc2-86753ad03687",
   "metadata": {},
   "outputs": [
    {
     "data": {
      "image/png": "[encoded data removed]",
      "text/plain": [
       "<Figure size 640x480 with 1 Axes>"
      ]
     },
     "metadata": {},
     "output_type": "display_data"
    }
   ],
   "source": [
    "# Plot count of customers by geography and gender\n",
    "sb.countplot(data=data_df, x=\"Location\", hue=\"Gender\", order = data_df['Location'].value_counts().index)\n",
    "plt.title(\"Distribution of Customers by Location and Gender\")\n",
    "plt.show()"
   ]
  },
  {
   "cell_type": "markdown",
   "id": "bd149634-0be6-4092-b381-31bddc823cb9",
   "metadata": {},
   "source": [
    "- Germany have the most female customers, while Spain ranked high in the male category\n",
    "\n",
    "- Least in male and female category is FRA"
   ]
  },
  {
   "cell_type": "code",
   "execution_count": 68,
   "id": "5c7edf48-eb3a-4d53-97c3-7e279ed77558",
   "metadata": {},
   "outputs": [
    {
     "data": {
      "text/plain": [
       "Text(0.5, 1.0, 'Average age of customers based on location and gender')"
      ]
     },
     "execution_count": 68,
     "metadata": {},
     "output_type": "execute_result"
    },
    {
     "data": {
      "image/png": "[encoded data removed]",
      "text/plain": [
       "<Figure size 640x480 with 1 Axes>"
      ]
     },
     "metadata": {},
     "output_type": "display_data"
    }
   ],
   "source": [
    "# distribution of customers based on geography, gender, and age \n",
    "sb.barplot(x='Location', y='Age', hue='Gender', data=data_df)\n",
    "plt.title(f'Average age of customers based on location and gender')"
   ]
  },
  {
   "cell_type": "code",
   "execution_count": 77,
   "id": "19a62844-e274-4d58-86fd-e35890a81100",
   "metadata": {},
   "outputs": [
    {
     "data": {
      "text/html": [
       "<div>\n",
       "<style scoped>\n",
       "    .dataframe tbody tr th:only-of-type {\n",
       "        vertical-align: middle;\n",
       "    }\n",
       "\n",
       "    .dataframe tbody tr th {\n",
       "        vertical-align: top;\n",
       "    }\n",
       "\n",
       "    .dataframe thead th {\n",
       "        text-align: right;\n",
       "    }\n",
       "</style>\n",
       "<table border=\"1\" class=\"dataframe\">\n",
       "  <thead>\n",
       "    <tr style=\"text-align: right;\">\n",
       "      <th></th>\n",
       "      <th>Location</th>\n",
       "      <th>Gender</th>\n",
       "      <th>Age</th>\n",
       "    </tr>\n",
       "  </thead>\n",
       "  <tbody>\n",
       "    <tr>\n",
       "      <th>9</th>\n",
       "      <td>Spain</td>\n",
       "      <td>Male</td>\n",
       "      <td>1387</td>\n",
       "    </tr>\n",
       "    <tr>\n",
       "      <th>7</th>\n",
       "      <td>Germany</td>\n",
       "      <td>Male</td>\n",
       "      <td>1316</td>\n",
       "    </tr>\n",
       "    <tr>\n",
       "      <th>6</th>\n",
       "      <td>Germany</td>\n",
       "      <td>Female</td>\n",
       "      <td>1192</td>\n",
       "    </tr>\n",
       "    <tr>\n",
       "      <th>8</th>\n",
       "      <td>Spain</td>\n",
       "      <td>Female</td>\n",
       "      <td>1089</td>\n",
       "    </tr>\n",
       "    <tr>\n",
       "      <th>3</th>\n",
       "      <td>France</td>\n",
       "      <td>Male</td>\n",
       "      <td>959</td>\n",
       "    </tr>\n",
       "    <tr>\n",
       "      <th>5</th>\n",
       "      <td>French</td>\n",
       "      <td>Male</td>\n",
       "      <td>905</td>\n",
       "    </tr>\n",
       "    <tr>\n",
       "      <th>1</th>\n",
       "      <td>FRA</td>\n",
       "      <td>Male</td>\n",
       "      <td>889</td>\n",
       "    </tr>\n",
       "    <tr>\n",
       "      <th>2</th>\n",
       "      <td>France</td>\n",
       "      <td>Female</td>\n",
       "      <td>781</td>\n",
       "    </tr>\n",
       "    <tr>\n",
       "      <th>4</th>\n",
       "      <td>French</td>\n",
       "      <td>Female</td>\n",
       "      <td>753</td>\n",
       "    </tr>\n",
       "    <tr>\n",
       "      <th>0</th>\n",
       "      <td>FRA</td>\n",
       "      <td>Female</td>\n",
       "      <td>730</td>\n",
       "    </tr>\n",
       "  </tbody>\n",
       "</table>\n",
       "</div>"
      ],
      "text/plain": [
       "  Location  Gender   Age\n",
       "9    Spain    Male  1387\n",
       "7  Germany    Male  1316\n",
       "6  Germany  Female  1192\n",
       "8    Spain  Female  1089\n",
       "3   France    Male   959\n",
       "5   French    Male   905\n",
       "1      FRA    Male   889\n",
       "2   France  Female   781\n",
       "4   French  Female   753\n",
       "0      FRA  Female   730"
      ]
     },
     "execution_count": 77,
     "metadata": {},
     "output_type": "execute_result"
    }
   ],
   "source": [
    "# grouping our customers distribution by aggregating them, using the count of age for each location and gender\n",
    "\n",
    "cust_dist = data_df.groupby(['Location', 'Gender'], as_index=False)[['Age']].count().sort_values(by='Age', ascending=False)\n",
    "cust_dist"
   ]
  },
  {
   "cell_type": "code",
   "execution_count": 78,
   "id": "cce2652d-4783-4cfc-bec0-a6575c2faf56",
   "metadata": {},
   "outputs": [
    {
     "data": {
      "text/plain": [
       "Text(0.5, 1.0, 'Average age of customers based on location and gender')"
      ]
     },
     "execution_count": 78,
     "metadata": {},
     "output_type": "execute_result"
    },
    {
     "data": {
      "image/png": "[encoded data removed]",
      "text/plain": [
       "<Figure size 600.25x500 with 1 Axes>"
      ]
     },
     "metadata": {},
     "output_type": "display_data"
    }
   ],
   "source": [
    "# Ploting a catplot to visualise the average age of each customer\n",
    "sb.catplot(x='Location', y='Age', hue='Gender', kind='bar', data=cust_dist)\n",
    "plt.title('Average age of customers based on location and gender')"
   ]
  },
  {
   "cell_type": "markdown",
   "id": "af7e0ecf-3299-43e1-b099-6fac9f2cb7d7",
   "metadata": {},
   "source": [
    "- Spain ranked high in the male category likewise it has the most age count"
   ]
  },
  {
   "cell_type": "markdown",
   "id": "d5e87e94-ad35-4752-b73e-bb034af68e5a",
   "metadata": {},
   "source": [
    "2.  Identify any demographic segments (e.g., by geography or gender) that have a significantly different credit score, balance, or other financial metrics.    \r\n"
   ]
  },
  {
   "cell_type": "code",
   "execution_count": null,
   "id": "11ccb5ce-e22c-4595-8814-3b873fda4fcc",
   "metadata": {},
   "outputs": [],
   "source": []
  },
  {
   "cell_type": "code",
   "execution_count": null,
   "id": "13c5327c-b7e3-4af7-98bc-b498f5ba0699",
   "metadata": {},
   "outputs": [],
   "source": []
  }
 ],
 "metadata": {
  "kernelspec": {
   "display_name": "Python 3 (ipykernel)",
   "language": "python",
   "name": "python3"
  },
  "language_info": {
   "codemirror_mode": {
    "name": "ipython",
    "version": 3
   },
   "file_extension": ".py",
   "mimetype": "text/x-python",
   "name": "python",
   "nbconvert_exporter": "python",
   "pygments_lexer": "ipython3",
   "version": "3.12.4"
  }
 },
 "nbformat": 4,
 "nbformat_minor": 5
}
